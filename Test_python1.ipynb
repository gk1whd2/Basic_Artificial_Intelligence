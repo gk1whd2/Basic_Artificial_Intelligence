{
 "cells": [
  {
   "cell_type": "code",
   "execution_count": 3,
   "metadata": {},
   "outputs": [
    {
     "name": "stdout",
     "output_type": "stream",
     "text": [
      "weight = 0.3333333333333333 kg\n"
     ]
    }
   ],
   "source": [
    "x = 1/3\n",
    "print('weight = {0} kg'.format(x))"
   ]
  },
  {
   "cell_type": "code",
   "execution_count": 4,
   "metadata": {},
   "outputs": [
    {
     "name": "stdout",
     "output_type": "stream",
     "text": [
      "weight : 0.25 kg, 0.125 kg, 0.0625 kg\n"
     ]
    }
   ],
   "source": [
    "x = 1/4\n",
    "y = 1/8\n",
    "z = 1/16\n",
    "print('weight : {0} kg, {1} kg, {2} kg'.format(x,y,z))"
   ]
  },
  {
   "cell_type": "code",
   "execution_count": 5,
   "metadata": {},
   "outputs": [
    {
     "name": "stdout",
     "output_type": "stream",
     "text": [
      "weight : 0.25 kg 0.12 kg 0.06 kg\n"
     ]
    }
   ],
   "source": [
    "x = 1/4\n",
    "y = 1/8\n",
    "z = 1/16\n",
    "print('weight : {0:.2f} kg {1:.2f} kg {2:.2f} kg'.format(x,y,z))"
   ]
  },
  {
   "cell_type": "code",
   "execution_count": 5,
   "metadata": {},
   "outputs": [
    {
     "name": "stdout",
     "output_type": "stream",
     "text": [
      "[0 1 2 3 4 5 6 7 8 9]\n",
      "True\n"
     ]
    }
   ],
   "source": [
    "import numpy as np\n",
    "a = np.arange(10)\n",
    "print(a)\n",
    "print(a.any())"
   ]
  },
  {
   "cell_type": "code",
   "execution_count": null,
   "metadata": {},
   "outputs": [],
   "source": []
  }
 ],
 "metadata": {
  "kernelspec": {
   "display_name": "Python 3",
   "language": "python",
   "name": "python3"
  },
  "language_info": {
   "codemirror_mode": {
    "name": "ipython",
    "version": 3
   },
   "file_extension": ".py",
   "mimetype": "text/x-python",
   "name": "python",
   "nbconvert_exporter": "python",
   "pygments_lexer": "ipython3",
   "version": "3.7.4"
  }
 },
 "nbformat": 4,
 "nbformat_minor": 2
}
