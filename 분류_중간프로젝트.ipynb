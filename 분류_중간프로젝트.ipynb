{
 "cells": [
  {
   "cell_type": "code",
   "execution_count": 10,
   "metadata": {},
   "outputs": [],
   "source": [
    "import numpy as np\n",
    "import matplotlib.pyplot as plt\n",
    "%matplotlib inline"
   ]
  },
  {
   "cell_type": "code",
   "execution_count": 315,
   "metadata": {
    "scrolled": false
   },
   "outputs": [
    {
     "name": "stdout",
     "output_type": "stream",
     "text": [
      "583\n",
      "[[6 8 7 8 6 8 8 9 1]\n",
      " [1 1 1 1 5 1 3 1 1]\n",
      " [4 2 4 3 2 2 2 1 1]\n",
      " [2 1 1 1 3 1 2 1 1]\n",
      " [3 1 1 1 2 1 1 1 1]]\n",
      "[[1 0]\n",
      " [0 1]\n",
      " [0 1]\n",
      " [0 1]\n",
      " [0 1]]\n",
      "(583, 2)\n"
     ]
    }
   ],
   "source": [
    "data = np.loadtxt(fname='Breast_cancer_data.txt')\n",
    "#data = np.loadtxt(fname='Sample_test_data.txt')\n",
    "\n",
    "X = data[:,:9]\n",
    "L = data[:,9]\n",
    "X = X.astype(int)\n",
    "L = L.astype(int)\n",
    "m = (L==0)\n",
    "m = m.astype(int)\n",
    "\n",
    "X_n = data.shape[0]\n",
    "T2 = np.r_[L,m]\n",
    "T2 = T2.reshape(2,X_n).T\n",
    "K = 2\n",
    "N = X_n\n",
    "\n",
    "X_range0 = [-12,12]\n",
    "X_range1 = [-12,12]\n",
    "\n",
    "print(X_n)\n",
    "print(X[:5,:])\n",
    "print(T2[:5,:])\n",
    "\n",
    "print(T2.shape)"
   ]
  },
  {
   "cell_type": "code",
   "execution_count": 316,
   "metadata": {
    "scrolled": true
   },
   "outputs": [
    {
     "data": {
      "image/png": "[encoded data removed]",
      "text/plain": [
       "<Figure size 720x288 with 1 Axes>"
      ]
     },
     "metadata": {
      "needs_background": "light"
     },
     "output_type": "display_data"
    }
   ],
   "source": [
    "def show_data10(x,t):\n",
    "    wk, K = t.shape\n",
    "    #c = [[0.5,0.5,0.5], [1,1,1], [0,0,0]]\n",
    "    c = [[1,0.1,0.1], [0.3,0.1,1],[0.1,1,0.2]]\n",
    "    for k in range(K):\n",
    "        plt.plot(x[t[:,k]==1,0], x[t[:,k]==1,1],\n",
    "                 linestyle='none', markeredgecolor='black', marker='o',\n",
    "                 color = c[k], alpha=0.8)\n",
    "        plt.grid(True)\n",
    "        \n",
    "plt.figure(figsize=(10,4))\n",
    "show_data10(X,T2)\n",
    "plt.xlim(X_range0)\n",
    "plt.ylim(X_range1)\n",
    "\n",
    "plt.show()"
   ]
  },
  {
   "cell_type": "code",
   "execution_count": 317,
   "metadata": {},
   "outputs": [
    {
     "data": {
      "text/plain": [
       "10.5574632423707"
      ]
     },
     "execution_count": 317,
     "metadata": {},
     "output_type": "execute_result"
    }
   ],
   "source": [
    "def logistic10(x,w):\n",
    "    exponential = np.zeros(x.shape[0])\n",
    "    \n",
    "    for i in range(x.shape[1]):\n",
    "        exponential = exponential + w[i]*x[:,i]\n",
    "    exponential = exponential + w[len(w)-1]\n",
    "      \n",
    "    y = 1/(1+np.exp(-(exponential)))\n",
    "\n",
    "    return y\n",
    "\n",
    "def cee_logistic10(w,x,t):\n",
    "    X_n = x.shape[0]\n",
    "    y = logistic10(x,w)\n",
    "    cee = 0\n",
    "    for n in range(len(y)):\n",
    "        cee = cee - (t[n,1]*np.log(y[n])+(1-t[n,1])*np.log(1-y[n]))\n",
    "\n",
    "    cee = cee/X_n\n",
    "    return cee\n",
    "\n",
    "def dcee_logistic10(w,x,t):\n",
    "    X_n = x.shape[0]\n",
    "    y = logistic10(x,w)\n",
    "    dcee = np.zeros(x.shape[1]+1)\n",
    "    for n in range(len(y)):\n",
    "        dcee[0] = dcee[0] + (y[n]-t[n,1])*x[n,0]\n",
    "        dcee[1] = dcee[1] + (y[n]-t[n,1])*x[n,1]\n",
    "        dcee[2] = dcee[2] + (y[n]-t[n,1])*x[n,2]\n",
    "        dcee[3] = dcee[3] + (y[n]-t[n,1])*x[n,3]\n",
    "        dcee[4] = dcee[4] + (y[n]-t[n,1])*x[n,4]\n",
    "        dcee[5] = dcee[5] + (y[n]-t[n,1])*x[n,5]\n",
    "        dcee[6] = dcee[6] + (y[n]-t[n,1])*x[n,6]\n",
    "        dcee[7] = dcee[7] + (y[n]-t[n,1])*x[n,7]\n",
    "        dcee[8] = dcee[8] + (y[n]-t[n,1])*x[n,8]\n",
    "        dcee[9] = dcee[9] + (y[n]-t[n,1])*1\n",
    "    dcee = dcee/X_n\n",
    "    #print(dcee)\n",
    "    return dcee\n",
    "\n",
    "#W = [-1, -5, -0.5, -6, -1, -0.5, 10, 1, -1, -1]\n",
    "W = [ -1, -1, -1, -1, -1, -1, -1, -1, -1,-1]\n",
    "dcee_logistic10(W,X,T2)\n",
    "cee_logistic10(W,X,T2)\n",
    "\n",
    "\n"
   ]
  },
  {
   "cell_type": "code",
   "execution_count": 318,
   "metadata": {},
   "outputs": [
    {
     "name": "stdout",
     "output_type": "stream",
     "text": [
      "W = [ -0.574  0.063  -0.296  -0.437  -0.109  -0.377  -0.426  -0.192  -0.392  10.054  ]\n",
      "CEE = 0.080890\n"
     ]
    }
   ],
   "source": [
    "from scipy.optimize import minimize\n",
    "\n",
    "def fit_logistic10(w_init,x,t):\n",
    "    res = minimize(cee_logistic10,w_init,args=(x,t),\n",
    "                  jac=dcee_logistic10,method=\"CG\")\n",
    "    return res.x\n",
    "\n",
    "#W_init = [ -1, -1, -1, -1, -1, -1, -1, -1, -1,-1]\n",
    "W_init = [0,0,0,0,0,0,0,0,0,0]\n",
    "W = fit_logistic10(W_init,X,T2)\n",
    "\n",
    "strW = \"W = [ \"\n",
    "for i in range(W.shape[0]) :\n",
    "    strW = strW + \"{0:.3f}  \".format(W[i])\n",
    "strW = strW + \"]\"\n",
    "print(strW)\n",
    "\n",
    "cee = cee_logistic10(W,X,T2)\n",
    "print(\"CEE = {0:f}\".format(cee))\n",
    "\n",
    "np.savetxt('2014140039.txt',W,fmt='%.3f',delimiter=',',newline=' ')\n"
   ]
  },
  {
   "cell_type": "code",
   "execution_count": null,
   "metadata": {},
   "outputs": [],
   "source": []
  },
  {
   "cell_type": "code",
   "execution_count": 320,
   "metadata": {},
   "outputs": [
    {
     "name": "stdout",
     "output_type": "stream",
     "text": [
      "Student ID: 2014140039\n",
      "W = [-0.574  0.063 -0.296 -0.437 -0.109 -0.377 -0.426 -0.192 -0.392 10.054]\n",
      "\n",
      "\n",
      "No. \t V \t T\n",
      "--------------------\n",
      "0 \t 0 \t 0\n",
      "1 \t 0 \t 0\n",
      "2 \t 0 \t 0\n",
      "3 \t 0 \t 0\n",
      "4 \t 1 \t 1\n",
      "5 \t 0 \t 0\n",
      "6 \t 1 \t 1\n",
      "7 \t 1 \t 1\n",
      "8 \t 0 \t 0\n",
      "9 \t 0 \t 0\n",
      "10 \t 1 \t 1\n",
      "11 \t 0 \t 0\n",
      "12 \t 0 \t 0\n",
      "13 \t 0 \t 0\n",
      "14 \t 0 \t 0\n",
      "15 \t 1 \t 1\n",
      "16 \t 1 \t 1\n",
      "17 \t 0 \t 0\n",
      "18 \t 0 \t 0\n",
      "19 \t 1 \t 1\n",
      "20 \t 1 \t 1\n",
      "21 \t 0 \t 0\n",
      "22 \t 1 \t 1\n",
      "23 \t 0 \t 0\n",
      "24 \t 0 \t 0\n",
      "25 \t 1 \t 1\n",
      "26 \t 0 \t 0\n",
      "27 \t 0 \t 0\n",
      "28 \t 1 \t 1\n",
      "29 \t 1 \t 1\n",
      "30 \t 0 \t 0\n",
      "31 \t 0 \t 0\n",
      "32 \t 0 \t 0\n",
      "33 \t 0 \t 0\n",
      "34 \t 0 \t 0\n",
      "35 \t 0 \t 0\n",
      "36 \t 0 \t 0\n",
      "37 \t 0 \t 0\n",
      "38 \t 1 \t 1\n",
      "39 \t 1 \t 1\n",
      "40 \t 0 \t 0\n",
      "41 \t 1 \t 1\n",
      "42 \t 0 \t 0\n",
      "43 \t 0 \t 0\n",
      "44 \t 0 \t 0\n",
      "45 \t 0 \t 0\n",
      "46 \t 0 \t 0\n",
      "47 \t 1 \t 1\n",
      "48 \t 1 \t 1\n",
      "49 \t 0 \t 0\n",
      "50 \t 0 \t 0\n",
      "51 \t 1 \t 1\n",
      "52 \t 1 \t 1\n",
      "53 \t 1 \t 1\n",
      "54 \t 1 \t 1\n",
      "55 \t 0 \t 0\n",
      "56 \t 1 \t 1\n",
      "57 \t 1 \t 1\n",
      "58 \t 1 \t 1\n",
      "59 \t 0 \t 0\n",
      "60 \t 1 \t 1\n",
      "61 \t 1 \t 1\n",
      "62 \t 1 \t 1\n",
      "63 \t 0 \t 0\n",
      "64 \t 0 \t 0\n",
      "65 \t 0 \t 0\n",
      "66 \t 0 \t 0\n",
      "67 \t 0 \t 0\n",
      "68 \t 1 \t 1\n",
      "69 \t 0 \t 0\n",
      "70 \t 0 \t 0\n",
      "71 \t 0 \t 0\n",
      "72 \t 1 \t 0\n",
      "73 \t 1 \t 1\n",
      "74 \t 1 \t 1\n",
      "75 \t 0 \t 0\n",
      "76 \t 0 \t 0\n",
      "77 \t 0 \t 0\n",
      "78 \t 0 \t 0\n",
      "79 \t 1 \t 1\n",
      "80 \t 1 \t 1\n",
      "81 \t 0 \t 0\n",
      "82 \t 1 \t 1\n",
      "83 \t 0 \t 0\n",
      "84 \t 1 \t 1\n",
      "85 \t 0 \t 0\n",
      "86 \t 0 \t 0\n",
      "87 \t 0 \t 0\n",
      "88 \t 0 \t 0\n",
      "89 \t 1 \t 1\n",
      "90 \t 1 \t 1\n",
      "91 \t 0 \t 0\n",
      "92 \t 0 \t 0\n",
      "93 \t 0 \t 0\n",
      "94 \t 0 \t 0\n",
      "95 \t 1 \t 1\n",
      "96 \t 0 \t 0\n",
      "97 \t 0 \t 0\n",
      "98 \t 1 \t 1\n",
      "99 \t 0 \t 1\n",
      "100 \t 1 \t 1\n",
      "101 \t 0 \t 0\n",
      "102 \t 0 \t 0\n",
      "103 \t 1 \t 1\n",
      "104 \t 0 \t 0\n",
      "105 \t 1 \t 1\n",
      "106 \t 0 \t 0\n",
      "107 \t 1 \t 1\n",
      "108 \t 0 \t 0\n",
      "109 \t 0 \t 0\n",
      "--------------------\n",
      "Total error : 2 out of 110\n",
      "Hit ratio : 98.2 %\n"
     ]
    },
    {
     "data": {
      "text/plain": [
       "98.2"
      ]
     },
     "execution_count": 320,
     "metadata": {},
     "output_type": "execute_result"
    }
   ],
   "source": [
    "def validate_model(w):\n",
    "    d = np.loadtxt(fname=\"Sample_test_data.txt\")\n",
    "    #d = np.loadtxt(fname=\"Breast_cancer_data.txt\")\n",
    "    #d = np.loadtxt(fname=\"midTerm_total_data.txt\")\n",
    "    X = d[:,:9].astype(int)\n",
    "    T = d[:,9].astype(int)\n",
    "    \n",
    "    N = X.shape[0]\n",
    "    \n",
    "    y = np.zeros(N)\n",
    "    decision = np.zeros(N).astype(int)\n",
    "    err_cnt = 0\n",
    "    \n",
    "    print('No. \\t V \\t T')\n",
    "    print('--------------------')\n",
    "    for i in range(N):\n",
    "        x = np.r_[X[i,:],1]\n",
    "        u = np.array(w).dot(x)\n",
    "        y[i] = 1 / ( 1 + np.exp(-u))\n",
    "        if y[i] < 0.5 :\n",
    "            decision[i] = 1\n",
    "        \n",
    "        if decision[i] != T[i] :\n",
    "            err_cnt = err_cnt + 1\n",
    "        \n",
    "        print('{0} \\t {1} \\t {2}'.format(i,decision[i], T[i]))\n",
    "        \n",
    "    hit_ratio = np.round((1-err_cnt/N)*100,1)\n",
    "    \n",
    "    print('--------------------')\n",
    "    print('Total error : {0} out of {1}'.format(err_cnt,N))\n",
    "    print('Hit ratio : {0:.1f} %'.format(hit_ratio))\n",
    "    \n",
    "    return hit_ratio\n",
    "\n",
    "StudentID = \"2014140039\"\n",
    "W = np.loadtxt(fname = StudentID+\".txt\")\n",
    "\n",
    "print(\"Student ID: \" + StudentID)\n",
    "print(\"W = \"+np.str(W))\n",
    "print(\"\\n\")\n",
    "\n",
    "validate_model(W)"
   ]
  },
  {
   "cell_type": "code",
   "execution_count": null,
   "metadata": {},
   "outputs": [],
   "source": []
  }
 ],
 "metadata": {
  "kernelspec": {
   "display_name": "Python 3",
   "language": "python",
   "name": "python3"
  },
  "language_info": {
   "codemirror_mode": {
    "name": "ipython",
    "version": 3
   },
   "file_extension": ".py",
   "mimetype": "text/x-python",
   "name": "python",
   "nbconvert_exporter": "python",
   "pygments_lexer": "ipython3",
   "version": "3.7.4"
  }
 },
 "nbformat": 4,
 "nbformat_minor": 2
}
